{
 "cells": [
  {
   "cell_type": "markdown",
   "metadata": {
    "slideshow": {
     "slide_type": "slide"
    }
   },
   "source": [
    "# TD 2: Les structures de contrôle\n",
    "\n",
    "---\n",
    "\n",
    "## 0. Récupération des nouveaux documents\n",
    "\n",
    "\n",
    "Les sujets de TD ainsi que les supports de cours sont publiés en ligne au fur et à mesure sur l'espace github original [https://github.com/uvsq-info/l1-python](https://github.com/uvsq-info/l1-python). Au moment où vous avez fait le fork de cet espace sur votre espace personnel, il est probable que tous les contenus n'étaient pas présents. Pour compléter votre espace, deux solutions sont possibles:\n",
    "\n",
    "\n",
    "1. (solution à privilégier) aller sur la page du projet original [https://github.com/uvsq-info/l1-python](https://github.com/uvsq-info/l1-python), et cliquer sur le bouton vert `Code` en haut à droite. Choisir `download ZIP`, puis extraire l'ensemble des nouveaux fichiers vers votre projet personnel local. Vous pouvez ensuite sauvegarder ces ajouts dans votre espace github personnel en suivant la procédure habituelle.\n",
    "2. (solution qui présente des risques de conflits entre différentes versions d'un même document) en ligne de commande dans le terminal, en suivant la procédure de la section *Intégrer les mises à jour du projet original* du fichier [README.md](https://github.com/uvsq-info/l1-python/blob/master/README.md#int%C3%A9grer-les-mises-%C3%A0-jour-du-projet-original)\n"
   ]
  },
  {
   "cell_type": "markdown",
   "metadata": {
    "slideshow": {
     "slide_type": "slide"
    }
   },
   "source": [
    "---\n",
    "\n",
    "## 1. Premiers exercices avec les structures conditionnelles\n",
    "\n",
    "**Exercice 1:**\n",
    "\n",
    "1. Soit *num1 = 15* et *num2 = 5*. Ecrire un programme qui affiche *Factors!* si l'un des nombres est un facteur de l'autre (c'est-à-dire qu'il divise l'autre nombre). Si aucun des nombres n'est un facteur de l'autre, le programme n'affiche rien.\n",
    "2. Changer le code que vous avez écrit de telle sorte qu'il affiche toujours *Factors!* si un nombre est un facteur de l'autre, mais qui affiche aussi *Not factors!* si aucun des nombres n'est un facteur de l'autre."
   ]
  },
  {
   "cell_type": "code",
   "execution_count": 16,
   "metadata": {
    "slideshow": {
     "slide_type": "notes"
    }
   },
   "outputs": [
    {
     "name": "stdout",
     "output_type": "stream",
     "text": [
      "Facteurs!\n"
     ]
    }
   ],
   "source": [
    "num1 = 15\n",
    "num2 = 5 \n",
    "if num1 % num2 == 0 or num2 % num2 == 0:\n",
    "    print('Facteurs!')\n",
    "else:\n",
    "    print('Not factors!')"
   ]
  },
  {
   "cell_type": "markdown",
   "metadata": {
    "slideshow": {
     "slide_type": "slide"
    }
   },
   "source": [
    "**Exercice 2:**\n",
    "    \n",
    "Soit *state = \"Georgia\"*. Ecrire un programme qui permet d'afficher un message spécifique en fonction de la variable *state* :  \n",
    "* \"School isn't cancelled.\" si nous sommes à New Jersey,  \n",
    "* \"School is postponed.\" si nous sommes à North Carolina,\n",
    "* \"School is cancelled!\" si nous sommes à Georgia,  \n",
    "* \"School's status is unknown\" si nous ne sommes pas dans un des trois états précédemment mentionnés."
   ]
  },
  {
   "cell_type": "code",
   "execution_count": 2,
   "metadata": {
    "slideshow": {
     "slide_type": "notes"
    }
   },
   "outputs": [
    {
     "name": "stdout",
     "output_type": "stream",
     "text": [
      "School is cancelled!\n"
     ]
    }
   ],
   "source": [
    "state = 'Georgia'\n",
    "if state == 'New Jersey':\n",
    "    print(\"School isn't cancelled.\")\n",
    "elif state == 'North Carolina':\n",
    "    print('School is postponed.')\n",
    "elif state == 'Georgia':\n",
    "    print('School is cancelled!')\n",
    "else:\n",
    "    print(\"School's status is unknown.\")"
   ]
  },
  {
   "cell_type": "markdown",
   "metadata": {
    "slideshow": {
     "slide_type": "slide"
    }
   },
   "source": [
    "**Exercice 3:**\n",
    "\n",
    "Ecrire un programme pour découvrir le signe du zodiaque chinois pour une année donnée. Le signe du zodiaque chinois est basé sur un cycle de 12 ans et chaque année de ce cycle est représentée par un animal :\n",
    "* 0: monkey\n",
    "* 1: rooster\n",
    "* 2: dog\n",
    "* 3: pig\n",
    "* 4: rat\n",
    "* 5: ox\n",
    "* 6: tiger\n",
    "* 7: rabbit\n",
    "* 8: dragon\n",
    "* 9: snake\n",
    "* 10: horse\n",
    "* 11: sheep\n",
    "\n",
    "La valeur de l'année % 12 détermine le signe du zodiaque. Par exemple, 1900 est l'année du *rat* puisque 1900 % 12 est 4."
   ]
  },
  {
   "cell_type": "code",
   "execution_count": 3,
   "metadata": {
    "slideshow": {
     "slide_type": "notes"
    }
   },
   "outputs": [
    {
     "name": "stdout",
     "output_type": "stream",
     "text": [
      "year = 1941\n",
      "snake\n"
     ]
    }
   ],
   "source": [
    "from random import randint\n",
    "\n",
    "\n",
    "year = randint(1900,2030)\n",
    "print('year =', year)\n",
    "zodiac = year % 12\n",
    "if zodiac == 0:\n",
    "    print('monkey')\n",
    "elif zodiac == 1:\n",
    "    print('rooster')\n",
    "elif zodiac == 2:\n",
    "    print('dog')\n",
    "elif zodiac == 3:\n",
    "    print('pig')\n",
    "elif zodiac == 4:\n",
    "    print('rat')\n",
    "elif zodiac == 5:\n",
    "    print('ox')\n",
    "elif zodiac == 6:\n",
    "    print('tiger')\n",
    "elif zodiac == 7:\n",
    "    print('rabbit')\n",
    "elif zodiac == 8:\n",
    "    print('dragon')\n",
    "elif zodiac == 9:\n",
    "    print('snake')\n",
    "elif zodiac == 10:\n",
    "    print('horse')\n",
    "elif zodiac == 11:\n",
    "    print('sheep')\n",
    "else: \n",
    "    TypeError()\n",
    "    "
   ]
  },
  {
   "cell_type": "markdown",
   "metadata": {
    "slideshow": {
     "slide_type": "slide"
    }
   },
   "source": [
    "**Exercice 4:**\n",
    "\n",
    "Soit *temperature = -3.7* et *celsius = True*. *celsius* est une variable booléenne qui indique si la température est en Celsius; si c'est *False*, alors la température donnée est en Fahrenheit. Ecrire un premier programme en utilisant *if-else* seulement qui permet d'afficher *Freezing* si les valeurs données représentent une température très basse, et *Not freezing* si ce n'est pas le cas. En Celsius, on considère qu'il fait très froid lorsque la température est inférieure ou égale à 0 degré. En Fahrenheit, on considère qu'il fait très froid lorsque la température est inférieure ou égale à 32 degrés. Proposer une seconde solution en utilisant *if-elif-else* à ce même problème."
   ]
  },
  {
   "cell_type": "code",
   "execution_count": 17,
   "metadata": {
    "slideshow": {
     "slide_type": "notes"
    }
   },
   "outputs": [
    {
     "name": "stdout",
     "output_type": "stream",
     "text": [
      "Freezing\n",
      "Freezing in European\n"
     ]
    }
   ],
   "source": [
    "temperature = -3.7\n",
    "celsius = True\n",
    "##################################################\n",
    "if temperature < 0 and celsius or temperature < 32 and not celsius:\n",
    "    print('Freezing')\n",
    "else:\n",
    "    print('Not freezing')\n",
    "#################################################\n",
    "if temperature < 0 and celsius:\n",
    "    print('Freezing in European')\n",
    "elif temperature < 32 and not celsius:\n",
    "    print('Freezing in American')\n",
    "else:\n",
    "    print(\"Not freezing.\")\n",
    "\n",
    "\n"
   ]
  },
  {
   "cell_type": "markdown",
   "metadata": {
    "slideshow": {
     "slide_type": "slide"
    }
   },
   "source": [
    "**Exercice 5:**\n",
    "    \n",
    "Ecrire un programme qui permet de déterminer si une année est bissextile ou non en utilisant une seule instruction *if-else*. Une année *A* est bissextile si *A* est divisible par 4. Elle ne l’est cependant pas si *A* est un multiple\n",
    "de 100, à moins que *A* ne soit multiple de 400.    "
   ]
  },
  {
   "cell_type": "code",
   "execution_count": 9,
   "metadata": {
    "slideshow": {
     "slide_type": "notes"
    }
   },
   "outputs": [
    {
     "name": "stdout",
     "output_type": "stream",
     "text": [
      "2028\n",
      "Bissextile\n"
     ]
    }
   ],
   "source": [
    "bisex_year = randint(1900,2030)\n",
    "print(bisex_year)\n",
    "if bisex_year % 4 == 0 :\n",
    "    print('Bissextile')\n",
    "elif bisex_year / 400 == 0:\n",
    "    print('Bissextile')\n",
    "else:\n",
    "    print('Pas bissextile')"
   ]
  },
  {
   "cell_type": "markdown",
   "metadata": {},
   "source": [
    "---\n",
    "\n",
    "## 2. Premiers exercices avec les structures itératives\n",
    "\n",
    "**Exercice 6:**\n",
    "\n",
    "1. Ecrire un programme qui permet d'afficher tous les nombres entre 1 et 10 (bornes incluses).\n",
    "2. Ecrire un programme se limitant à la boucle *for* qui permet d'afficher tous les nombres pairs entre 1 et 20 (bornes incluses). Proposer une deuxième solution en incluant une structure conditionnelle."
   ]
  },
  {
   "cell_type": "code",
   "execution_count": 13,
   "metadata": {},
   "outputs": [
    {
     "name": "stdout",
     "output_type": "stream",
     "text": [
      "1\n",
      "2\n",
      "3\n",
      "4\n",
      "5\n",
      "6\n",
      "7\n",
      "8\n",
      "9\n",
      "10\n",
      "####################\"\n",
      "2\n",
      "4\n",
      "6\n",
      "8\n",
      "10\n",
      "12\n",
      "14\n",
      "16\n",
      "18\n",
      "20\n"
     ]
    }
   ],
   "source": [
    "for i in range(1,10+1):\n",
    "    print(i)\n",
    "######\n",
    "print('####################')\n",
    "for i in range(1,20+1):\n",
    "    if i % 2 == 0:\n",
    "        print(i)"
   ]
  },
  {
   "cell_type": "markdown",
   "metadata": {},
   "source": [
    "**Exercice 7:**\n",
    "    \n",
    "1. Ecrire un programme qui demande à l'utilisateur de saisir *n* nombres, *n* étant choisi par l'utilisateur, puis d'afficher la moyenne de ces nombres.\n",
    "\n",
    "2. Même question, mais l'utilisateur ne choisit pas à l'avance le nombre *n*, la procédure s'arrête quand il saisit le nombre -1.\n"
   ]
  },
  {
   "cell_type": "code",
   "execution_count": 24,
   "metadata": {},
   "outputs": [
    {
     "name": "stdout",
     "output_type": "stream",
     "text": [
      "Le nombre choisi est  2\n",
      "Le nombre choisi est  1\n",
      "Le nombre choisi est  44\n",
      "Le nombre choisi est  6\n",
      "moyenne = 17.666666666666668\n"
     ]
    }
   ],
   "source": [
    "n = int(input('Choisir le nombre des nombres à saisir.'))\n",
    "sum = 0\n",
    "for i in range (n+1):\n",
    "    nombre = int(input('Saisir le nombre'))\n",
    "    print('Le nombre choisi est ',nombre)\n",
    "    sum = sum + nombre\n",
    "moyenne = sum / n\n",
    "print('moyenne =',moyenne)\n",
    "\n",
    "\n"
   ]
  },
  {
   "cell_type": "code",
   "execution_count": 30,
   "metadata": {},
   "outputs": [
    {
     "name": "stdout",
     "output_type": "stream",
     "text": [
      "moyenne = 3.0\n",
      "moyenne = 2.5\n",
      "moyenne = 2.0\n",
      "moyenne = 2.5\n",
      "moyenne = 1.8\n"
     ]
    }
   ],
   "source": [
    "moyenne = 0\n",
    "nombre = 0\n",
    "sum = 0\n",
    "n = 0\n",
    "while nombre != -1:\n",
    "    n += 1\n",
    "    nombre = int(input('Choisisez un nombre.'))\n",
    "    sum = sum + nombre\n",
    "    moyenne = sum / n\n",
    "    print('moyenne =',moyenne)\n",
    "\n",
    "    "
   ]
  },
  {
   "cell_type": "markdown",
   "metadata": {},
   "source": [
    "**Exercice 8:**\n",
    "\n",
    "Ecrire un programme qui permet de calculer le factoriel d'un nombre positif donné par l'utlisateur selon la formule suivante : \n",
    "n! = 1 x 2 x ... x n.  \n",
    "\n",
    "1. Une première version en utilisant la boucle *for*\n",
    "2. Une seconde version en utilisant la boucle *while*"
   ]
  },
  {
   "cell_type": "code",
   "execution_count": 37,
   "metadata": {},
   "outputs": [
    {
     "name": "stdout",
     "output_type": "stream",
     "text": [
      "n! = 24\n"
     ]
    }
   ],
   "source": [
    "n = input ('Saisir un nombre dont nous allons vous donner le factoriel.')\n",
    "n = int(n)\n",
    "for i in range ( 1, n ):\n",
    "    n = n*i\n",
    "print('n! =', n)\n"
   ]
  },
  {
   "cell_type": "code",
   "execution_count": 48,
   "metadata": {},
   "outputs": [
    {
     "name": "stdout",
     "output_type": "stream",
     "text": [
      "6\n",
      "n! =  6\n"
     ]
    }
   ],
   "source": [
    "from math import factorial\n",
    "print(factorial(3))\n",
    "\n",
    "###########################################################################\"\"\n",
    "n = input ('Saisir un nombre dont nous allons vous donner le factoriel.')\n",
    "n = int(n)\n",
    "i = 0\n",
    "factoriel = 1\n",
    "while i != n:\n",
    "    i += 1\n",
    "    factoriel = factoriel*i\n",
    "print('n! = ',factoriel)\n",
    "    "
   ]
  },
  {
   "cell_type": "markdown",
   "metadata": {
    "slideshow": {
     "slide_type": "slide"
    }
   },
   "source": [
    "---\n",
    "\n",
    "## 3. Pour aller plus loin\n",
    "\n",
    "**Excercice 9:**\n",
    "\n",
    "Ecrire un programme qui permet de connaître le jour de naissance de l'utilisateur en posant cinq questions.\n",
    "Chaque question demande si le jour est dans l'un des cinq ensembles suivants :\n",
    "\n",
    "* Set 1: \\[1 3 5 7 9 11 13 15 17 19 21 23 25 27 29 31\\]\n",
    "* Set 2: \\[2 3 6 7 10 11 14 15 18 19 22 23 26 27 30 31\\]\n",
    "* Set 3: \\[4 5 6 7 12 13 14 15 20 21 22 23 28 29 30 31\\]\n",
    "* Set 4: \\[8 9 10 11 12 13 14 15 24 25 26 27 28 29 30 31\\]\n",
    "* Set 5: \\[16 17 18 19 20 21 22 23 24 25 26 27 28 29 30 31\\]\n",
    "    \n",
    "\n",
    "Le jour de naissance est la somme des premiers nombres dans les ensembles où le jour apparaît. Par exemple,\n",
    "si le jour de naissance est 19, il apparaît dans Set 1, Set 2 et Set 5. Les premiers chiffres de ces trois ensembles sont 1, 2 et 16. Leur somme est 19."
   ]
  },
  {
   "cell_type": "code",
   "execution_count": null,
   "metadata": {
    "slideshow": {
     "slide_type": "notes"
    }
   },
   "outputs": [],
   "source": []
  },
  {
   "cell_type": "markdown",
   "metadata": {
    "slideshow": {
     "slide_type": "slide"
    }
   },
   "source": [
    "**Excercice 10:**\n",
    "\n",
    "Ecrire un programme qui permet de génèrer de manière aléatoire un nombre à deux chiffres, invite l'utilisateur à saisir un nombre à deux chiffres et détermine si l'utilisateur gagne selon les règles suivantes :\n",
    "* Si l'entrée de l'utilisateur correspond à la loterie (le nombre généré aléatoirement) dans l'ordre exact, la récompense est de 10 000€.\n",
    "* Sinon, si les deux chiffres entrés par l'utilisateur correspondent aux deux chiffres du numéro de loterie, la récompense est de 3 000€.\n",
    "* Sinon, si un chiffre dans l'entrée de l'utilisateur correspond à un chiffre dans le numéro de loterie, la récompense est de 1 000€.\n",
    "\n",
    "**Astuce :** Utiliser la fonction **random.randint(0, 99)** pour génèrer de manière aléatoire un nombre à deux chiffres. Cette fonction doit être accompagné par **import random** comme première instruction dans le code."
   ]
  },
  {
   "cell_type": "code",
   "execution_count": 11,
   "metadata": {
    "slideshow": {
     "slide_type": "notes"
    }
   },
   "outputs": [
    {
     "name": "stdout",
     "output_type": "stream",
     "text": [
      "Vouz avez gagné 1 000€.\n",
      "Le nombre est: 96\n"
     ]
    }
   ],
   "source": [
    "############ METHODE STR\n",
    "\n",
    "import random\n",
    "\n",
    "\n",
    "lotterie = str(random.randint(0,99))\n",
    "nombre_saisi = int(input('Saisisez un nombre à deux chiffres.'))\n",
    "if len(str(nombre_saisi)) > 2 :\n",
    "    print('Le nombre est plus long que 2 chiffres.')\n",
    "else:\n",
    "    if lotterie == str(nombre_saisi):\n",
    "        print('Vouz avez gagné 10 000€.')\n",
    "    elif (str(nombre_saisi % 10)) in lotterie and (str(int(nombre_saisi / 10))) in lotterie:\n",
    "        print('Vous avez gagné 3 000€.')\n",
    "    elif (str(nombre_saisi % 10)) in lotterie or (str(int(nombre_saisi / 10))) in lotterie:\n",
    "        print('Vouz avez gagné 1 000€.')\n",
    "    else:\n",
    "        print('Vouz avez rien gagné.')\n",
    "print('Le nombre est:', lotterie)\n",
    "\n",
    "############ METHODE 2\n",
    "        "
   ]
  },
  {
   "cell_type": "markdown",
   "metadata": {},
   "source": [
    "**Exercice 11:**\n",
    "    \n",
    "Ecrire un programme qui permet de calculer la somme des chiffres d'un entier *n* donné. Le nombre *n* doit être compris entre 10 et 20 (bornes incluses)."
   ]
  },
  {
   "cell_type": "code",
   "execution_count": 30,
   "metadata": {},
   "outputs": [
    {
     "name": "stdout",
     "output_type": "stream",
     "text": [
      "55\n"
     ]
    }
   ],
   "source": [
    "n = int(input('Donnez un chiffre compris entre 10 et 20'))\n",
    "if n >= 10 and n <= 20:\n",
    "    somme = 0\n",
    "    for i in range(0,n+1):\n",
    "        somme += i\n",
    "    print(somme)"
   ]
  },
  {
   "cell_type": "markdown",
   "metadata": {},
   "source": [
    "**Exercice 12:**\n",
    "\n",
    "1. Ecrire un programme qui permet de générer aléatoirement deux nombres entre 0 et 9, de calculer leurs différences (en valeur absolue), puis d'inviter l'utilisateur à répondre à la question suivante *que vaut abs(number1 - number2)?*. Le programme doit permettre à l'utilisateur de répondre plusieurs fois jusqu'à la saisie de la bonne réponse.\n",
    "2. Modifier le programme précédent de telle sorte qu'il génère cinq occurences à la suite invitant à répondre à la question précédente. A la fin, le programme affiche le nombre moyen de tentatives qu'il a fallu à l'utilisateur pour répondre à une question."
   ]
  },
  {
   "cell_type": "code",
   "execution_count": 4,
   "metadata": {
    "tags": []
   },
   "outputs": [
    {
     "name": "stdout",
     "output_type": "stream",
     "text": [
      "bravo\n"
     ]
    }
   ],
   "source": [
    "import random\n",
    "\n",
    "number1 = random.randint(0,9)\n",
    "number2 = random.randint(0,9)\n",
    "string = 'Que vaut abs(' ,number1, ' - ' ,number2, ')?'\n",
    "answer = None\n",
    "while answer != abs(number1 - number2):\n",
    "    answer = int(input(string))\n",
    "print('bravo')\n",
    "\n"
   ]
  },
  {
   "cell_type": "code",
   "execution_count": 12,
   "metadata": {
    "tags": []
   },
   "outputs": [
    {
     "ename": "NameError",
     "evalue": "name 'randomint' is not defined",
     "output_type": "error",
     "traceback": [
      "\u001b[1;31m---------------------------------------------------------------------------\u001b[0m",
      "\u001b[1;31mNameError\u001b[0m                                 Traceback (most recent call last)",
      "\u001b[1;32mc:\\Users\\oliwi\\OneDrive\\Documents\\GitHub\\l1-python\\exercises\\TD02_structures_controle\\02_structures_controle.ipynb Cellule 28\u001b[0m in \u001b[0;36m<cell line: 3>\u001b[1;34m()\u001b[0m\n\u001b[0;32m      <a href='vscode-notebook-cell:/c%3A/Users/oliwi/OneDrive/Documents/GitHub/l1-python/exercises/TD02_structures_controle/02_structures_controle.ipynb#X36sZmlsZQ%3D%3D?line=0'>1</a>\u001b[0m \u001b[39mimport\u001b[39;00m \u001b[39mrandom\u001b[39;00m\n\u001b[1;32m----> <a href='vscode-notebook-cell:/c%3A/Users/oliwi/OneDrive/Documents/GitHub/l1-python/exercises/TD02_structures_controle/02_structures_controle.ipynb#X36sZmlsZQ%3D%3D?line=2'>3</a>\u001b[0m number1 \u001b[39m=\u001b[39m randomint(\u001b[39m0\u001b[39m,\u001b[39m9\u001b[39m)\n\u001b[0;32m      <a href='vscode-notebook-cell:/c%3A/Users/oliwi/OneDrive/Documents/GitHub/l1-python/exercises/TD02_structures_controle/02_structures_controle.ipynb#X36sZmlsZQ%3D%3D?line=3'>4</a>\u001b[0m number2 \u001b[39m=\u001b[39m randomint(\u001b[39m0\u001b[39m,\u001b[39m9\u001b[39m)\n",
      "\u001b[1;31mNameError\u001b[0m: name 'randomint' is not defined"
     ]
    }
   ],
   "source": [
    "import random\n",
    "\n",
    "number1 = random.randomint(0,9)\n",
    "number2 = random.randomint(0,9)\n",
    "\n",
    "print('Que vaut abs(' , number1 , ' - ', number2, '?')\n",
    "for i in range (0,5):\n",
    "    answer = int(input())\n",
    "    if answer == abs(number1 - number2):\n",
    "        print()\n",
    "    else:\n",
    "        "
   ]
  },
  {
   "cell_type": "markdown",
   "metadata": {},
   "source": [
    "**Exercice 13:**\n",
    "\n",
    "Ecrire un programme qui permet de calculer le nombre de mots dans une phrase saisie par l'utilisateur."
   ]
  },
  {
   "cell_type": "code",
   "execution_count": 27,
   "metadata": {
    "tags": []
   },
   "outputs": [
    {
     "name": "stdout",
     "output_type": "stream",
     "text": [
      "Il y a 86 mots dans votre phrase.\n"
     ]
    }
   ],
   "source": [
    "phrase = input('Ecrivez une phrase.')\n",
    "mots = 0\n",
    "i = 0\n",
    "for i in range(0,len(phrase)):\n",
    "    if phrase[i] == ' ':\n",
    "        mots += + 1\n",
    "print('Il y a', mots ,'mots dans votre phrase.')\n"
   ]
  },
  {
   "cell_type": "markdown",
   "metadata": {
    "slideshow": {
     "slide_type": "slide"
    }
   },
   "source": [
    "---\n",
    "\n",
    "## 4. Pour s'entraîner\n",
    "\n",
    "**Exercice 14:**\n",
    "    \n",
    "Soit la variable my_input = \"zoophysiology\". Ecrire un script qui permet d'afficher l'un des messages suivants en fonction du nombre maximum de *o* consécutifs dans la variable *my_input*. Par exemple, le script doit afficher \"I like studying birds! I want to become an ornithologist!\" parce qu'il y a deux *o* consécutifs, même s'il y a aussi des *o* individual.\n",
    "Ignorer les *o* majuscules - recherchez que les *o* minuscules.\n",
    "\n",
    "* Si \"o\" apparaît trois fois ou plus de suite, afficher le message \"I like going to the zoo!\"  \n",
    "* Si \"o\" apparaît deux fois, afficher le message \"I like studying birds! I want to become an ornithologist!\"  \n",
    "* Si \"o\" apparaît une seule fois, afficher le message \"I like studying fish! I want to become an ichthyologist!\"  \n",
    "* Si \"o\" n'apparaît pas dans la variable *my_input*, afficher le message \"I miss going to the zoo!\"  \n",
    "\n",
    "**Astuce :** Utiliser l'opérateur **in** qui renvoie **True** si la première chaîne se trouve dans la deuxième chaîne. "
   ]
  },
  {
   "cell_type": "code",
   "execution_count": null,
   "metadata": {
    "slideshow": {
     "slide_type": "notes"
    }
   },
   "outputs": [],
   "source": []
  },
  {
   "cell_type": "markdown",
   "metadata": {
    "slideshow": {
     "slide_type": "slide"
    }
   },
   "source": [
    "**Exercice 15:**\n",
    "    \n",
    "Créer quatre variables nommées *team_1* et *team_2*, représentant deux noms d'équipes, et *team_1_score* et *team_2_score*, représentant les scores de ces deux équipes. \n",
    "Une équipe gagne si son score est supérieur à l'autre score de l'autre équipe.\n",
    " \n",
    "Ecrire un premier script qui permet d'afficher les messages suivants selon les valeurs entrées, ceci en utilisant seulement les quatres variables créées :\n",
    "* Si une équipe bat l'autre, affichez: \"\\[winner\\] beat \\[loser\\] by \\[margin\\]\"\n",
    "* Si aucune des équipes n'a gagné, affichez: \"\\[team_1\\] played \\[team_2\\] and it was a tie\"\n",
    "\n",
    "Ecrire un deuxième script qui permet d'afficher les mêmes messages mais en ajoutant trois variables de plus :\n",
    "* La variable *winner* pour définir l'équipe gagnante  \n",
    "* La variable *loser* pour définier l'équipe perdante  \n",
    "* La variable *margin* pour définir la différence entre les deux scores \n"
   ]
  },
  {
   "cell_type": "code",
   "execution_count": null,
   "metadata": {
    "slideshow": {
     "slide_type": "notes"
    }
   },
   "outputs": [],
   "source": []
  },
  {
   "cell_type": "code",
   "execution_count": null,
   "metadata": {
    "slideshow": {
     "slide_type": "notes"
    }
   },
   "outputs": [],
   "source": []
  },
  {
   "cell_type": "markdown",
   "metadata": {
    "slideshow": {
     "slide_type": "slide"
    }
   },
   "source": [
    "**Exercice 16:**\n",
    "    \n",
    "L'Indice de Masse Corporelle (IMC) permet d'estimer le poids idéal en fonction de la taille. Son calcul correspond au poids en kilogrammes divisé par le carré de la taille en mètre (IMC = poids en kg/taille² en m). Le chiffre obtenu permet d'estimer la corpulence et éventuellement le surpoids ou l'obésité chez l'adulte, homme ou femme.\n",
    "L'interprétation de l'IMC pour les personnes de 16 ans et plus est la suivante :\n",
    "* Moins de 18.5: Underweight\n",
    "* Entre 18.5 et 24.9: Normal\n",
    "* Entre 25.0 et 29.9: Overweight\n",
    "* Plus que 30.0: Obese\n",
    "\n",
    "Ecrire un programme qui permet de saisir un poids en *pounds* et une taille en *inches*, de calculer et d'afficher l'IMC à deux valeurs après la virgule, et d'afficher l'interprétation la plus adéquate. Notez qu'un *pound* équivaut à 0,45359237 kilogrammes et qu'un *inch* équivaut à 0,0254 mètre.  \n",
    "\n",
    "**Astuce :** Pour afficher deux valeurs après la virgule, utilisez la fonction **format(nom_variable, \".2f\")**. Exemple : **print('La moyenne est :', format(moyenne, \".2f\"))**"
   ]
  },
  {
   "cell_type": "code",
   "execution_count": null,
   "metadata": {
    "slideshow": {
     "slide_type": "notes"
    }
   },
   "outputs": [],
   "source": []
  },
  {
   "cell_type": "markdown",
   "metadata": {},
   "source": [
    "**Exercice 17:**\n",
    "\n",
    "Ecrire un programme qui affiche un triangle d'étoiles de taille donnée, par exemple si on entre 6, le programme affiche:\n",
    "```\n",
    "*\n",
    "**\n",
    "***\n",
    "****\n",
    "*****\n",
    "******\n",
    "```"
   ]
  },
  {
   "cell_type": "code",
   "execution_count": 33,
   "metadata": {
    "tags": []
   },
   "outputs": [
    {
     "name": "stdout",
     "output_type": "stream",
     "text": [
      "\n",
      "*\n",
      "**\n",
      "***\n",
      "****\n",
      "*****\n",
      "******\n"
     ]
    }
   ],
   "source": [
    "taille = int(input('Donnez la taille de votre triangle.'))\n",
    "for i in range(taille+1):\n",
    "    print('*' * i)\n"
   ]
  },
  {
   "cell_type": "markdown",
   "metadata": {},
   "source": [
    "**Exercice 18:**\n",
    "\n",
    "Même exercice mais cette fois la sortie est\n",
    "```\n",
    "     *\n",
    "    **         \n",
    "   ***\n",
    "  ****\n",
    " *****\n",
    "******\n",
    "```"
   ]
  },
  {
   "cell_type": "code",
   "execution_count": 36,
   "metadata": {
    "tags": []
   },
   "outputs": [
    {
     "name": "stdout",
     "output_type": "stream",
     "text": [
      "      \n",
      "     *\n",
      "    **\n",
      "   ***\n",
      "  ****\n",
      " *****\n",
      "******\n"
     ]
    }
   ],
   "source": [
    "taille = int(input('Donnez la taille de votre triangle.'))\n",
    "i = 0\n",
    "u = taille\n",
    "for i in range(taille+1):\n",
    "    print((' ' * u)+('*' * i))\n",
    "    u -= 1\n",
    "    \n"
   ]
  },
  {
   "cell_type": "markdown",
   "metadata": {},
   "source": [
    "**Exercice 19:**\n",
    "\n",
    "Ecrire un programme qui calcule, étant donné un entier *n* rentré par l'utilisateur, la plus grande puissance de *n* inférieure à un million."
   ]
  },
  {
   "cell_type": "code",
   "execution_count": null,
   "metadata": {
    "tags": []
   },
   "outputs": [],
   "source": []
  }
 ],
 "metadata": {
  "celltoolbar": "Diaporama",
  "kernelspec": {
   "display_name": "Python 3.10.4 ('l1-python')",
   "language": "python",
   "name": "python3"
  },
  "language_info": {
   "codemirror_mode": {
    "name": "ipython",
    "version": 3
   },
   "file_extension": ".py",
   "mimetype": "text/x-python",
   "name": "python",
   "nbconvert_exporter": "python",
   "pygments_lexer": "ipython3",
   "version": "3.10.4"
  },
  "vscode": {
   "interpreter": {
    "hash": "bdf39049d8c28fea86f8ec6009af0caafcba6f89ec9c6ef4d32fbf764b2e5c88"
   }
  }
 },
 "nbformat": 4,
 "nbformat_minor": 4
}
